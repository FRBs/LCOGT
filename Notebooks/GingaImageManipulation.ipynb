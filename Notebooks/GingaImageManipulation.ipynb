{
 "cells": [
  {
   "cell_type": "code",
   "execution_count": 1,
   "metadata": {},
   "outputs": [],
   "source": [
    "#Creates a Jupyter image that will be our display surface\n",
    "#format can be 'jpeg' or 'png';specify width and height to set a viewer size\n",
    "import ipywidgets as widgets \n",
    "import matplotlib.pyplot as plt\n",
    "import matplotlib.image as mpimg\n",
    "import numpy as np\n",
    "jup_img=widgets.Image(format='jpeg',width=500,height=500)"
   ]
  },
  {
   "cell_type": "code",
   "execution_count": 2,
   "metadata": {},
   "outputs": [],
   "source": [
    "# Boilerplate to create a Ginga viewer connected to this widget\n",
    "# this could be simplified, or hidden behind a class or convenience \n",
    "# method\n",
    "# NOTE: you don't have to specify a log file--and if you are not interested\n",
    "# in the log just specify null=True for a null logger\n",
    "# level=10 will give you the most debugging information\n",
    "from ginga.misc.log import get_logger\n",
    "logger=get_logger(\"my viewer\",log_stderr=False,log_file='/tmp/ginga.log',level=40)\n",
    "\n",
    "from ginga.web.jupyterw.ImageViewJpw import EnhancedCanvasView\n",
    "v1=EnhancedCanvasView(logger=logger)\n",
    "#links the jupyter widget and ginga\n",
    "v1.set_widget(jup_img)\n",
    "#enables all possible keyboard and pointer operations\n",
    "bd=v1.get_bindings()\n",
    "bd.enable_all(True)"
   ]
  },
  {
   "cell_type": "code",
   "execution_count": 3,
   "metadata": {},
   "outputs": [],
   "source": [
    "coordinates=widgets.HTML()\n",
    "#callback to display position in RA/DEC deg\n",
    "def mouse_move(viewer,button,data_x,data_y,w):\n",
    "    image=viewer.get_image()\n",
    "    if image is not None:\n",
    "        ra,dec=image.pixtoradec(data_x,data_y)\n",
    "        w.value=\"cursor at %f,%f\" % (ra,dec)\n",
    "v1.add_callback('cursor-changed',mouse_move,coordinates)"
   ]
  },
  {
   "cell_type": "code",
   "execution_count": 4,
   "metadata": {},
   "outputs": [
    {
     "data": {
      "application/javascript": [
       "IPython.OutputArea.prototype._should_scroll=function(lines){return false;}\n"
      ],
      "text/plain": [
       "<IPython.core.display.Javascript object>"
      ]
     },
     "metadata": {},
     "output_type": "display_data"
    }
   ],
   "source": [
    "%%javascript\n",
    "IPython.OutputArea.prototype._should_scroll=function(lines){return false;}"
   ]
  },
  {
   "cell_type": "code",
   "execution_count": 5,
   "metadata": {
    "scrolled": false
   },
   "outputs": [
    {
     "data": {
      "application/vnd.jupyter.widget-view+json": {
       "model_id": "c60b65c0d1c4411cb10c3ed54049fce6",
       "version_major": 2,
       "version_minor": 0
      },
      "text/plain": [
       "VBox(children=(Image(value=b'\\xff\\xd8\\xff\\xe0\\x00\\x10JFIF\\x00\\x01\\x01\\x00\\x00\\x01\\x00\\x01\\x00\\x00\\xff\\xdb\\x00C…"
      ]
     },
     "metadata": {},
     "output_type": "display_data"
    }
   ],
   "source": [
    "#viewer embedded here\n",
    "widgets.VBox([jup_img,coordinates])"
   ]
  },
  {
   "cell_type": "code",
   "execution_count": 7,
   "metadata": {
    "scrolled": false
   },
   "outputs": [
    {
     "name": "stderr",
     "output_type": "stream",
     "text": [
      "WARNING: VerifyWarning: Verification reported errors: [astropy.io.fits.verify]\n",
      "WARNING: VerifyWarning: HDU 0: [astropy.io.fits.verify]\n",
      "WARNING: VerifyWarning:     Card 75: [astropy.io.fits.verify]\n",
      "WARNING: VerifyWarning:         Card 'SW_RA' is not FITS standard (invalid value string: '22:13:00.817 / RA of center passed to swarp').  Fixed 'SW_RA' card to meet the FITS standard. [astropy.io.fits.verify]\n",
      "WARNING: VerifyWarning:     Card 76: [astropy.io.fits.verify]\n",
      "WARNING: VerifyWarning:         Card 'SW_DEC' is not FITS standard (invalid value string: '-55:02:21.320 / DEC of center passed to swarp').  Fixed 'SW_DEC' card to meet the FITS standard. [astropy.io.fits.verify]\n",
      "WARNING: VerifyWarning:     Card 79: [astropy.io.fits.verify]\n",
      "WARNING: VerifyWarning:         Card 'TSSWARP' is not FITS standard (invalid value string: '2018-08-28T19:42:37').  Fixed 'TSSWARP' card to meet the FITS standard. [astropy.io.fits.verify]\n",
      "WARNING: VerifyWarning: Note: astropy.io.fits uses zero-based indexing.\n",
      " [astropy.io.fits.verify]\n"
     ]
    }
   ],
   "source": [
    "#Loads a FITS file. The above viewer should update.\n",
    "v1.load_fits(\"FITS file goes here\")\n",
    "v1.scale_to(.8,.8)"
   ]
  },
  {
   "cell_type": "code",
   "execution_count": null,
   "metadata": {},
   "outputs": [],
   "source": [
    "#Draw circles around all objects\n",
    "canvas=v1.add_canvas()\n",
    "Circle=canvas.get_draw_class('circle')\n",
    "for i in range(30):\n",
    "    x,y=X[i],Y[i]\n",
    "    canvas.add(Circle(x,y,radius=15,color='yellow'))"
   ]
  },
  {
   "cell_type": "code",
   "execution_count": 6,
   "metadata": {},
   "outputs": [
    {
     "name": "stderr",
     "output_type": "stream",
     "text": [
      "WARNING: File may have been truncated: actual file length (30451) is smaller than the expected size (31680) [astropy.io.fits.file]\n"
     ]
    }
   ],
   "source": [
    "#this code loads the DCMP Table generated from the ziggy.ucolick.org pipeline.\n",
    "from astropy.io import ascii,fits\n",
    "\n",
    "filename = 'dcmp table here'\n",
    "\n",
    "dcmp_table = ascii.read(filename, data_start = 1)\n",
    "header = fits.open(filename)[0].header\n",
    "\n",
    "for key in dcmp_table.keys():\n",
    "    colname = header[key.replace('col','COLTBL')]\n",
    "    dcmp_table.rename_column(key, colname)\n",
    "    \n",
    "#We want to grab the X and Y positions of the potential transients detected\n",
    "X=np.array(dcmp_table['Xpos'])\n",
    "Y=np.array(dcmp_table['Ypos'])"
   ]
  },
  {
   "cell_type": "code",
   "execution_count": 10,
   "metadata": {
    "scrolled": false
   },
   "outputs": [],
   "source": [
    "#Saves an image for each potential optical transient to a filepath\n",
    "#centered based on X,Y coordinates provided by DCMP Table\n",
    "import logging\n",
    "logging.basicConfig(format='%(levelname)s: %(name)s(%(funcName)s): %(message)s', level=logging.DEBUG)\n",
    "for i in range(30):\n",
    "    v1.set_pan(X[i],Y[i])\n",
    "    v1.save_rgb_image_as_file(\"your_filepath/image_{}_{}.jpg\".format(X[i],Y[i]),format='jpeg',quality=90)\n"
   ]
  }
 ],
 "metadata": {
  "kernelspec": {
   "display_name": "Python 3",
   "language": "python",
   "name": "python3"
  },
  "language_info": {
   "codemirror_mode": {
    "name": "ipython",
    "version": 3
   },
   "file_extension": ".py",
   "mimetype": "text/x-python",
   "name": "python",
   "nbconvert_exporter": "python",
   "pygments_lexer": "ipython3",
   "version": "3.7.3"
  }
 },
 "nbformat": 4,
 "nbformat_minor": 2
}
